{
 "cells": [
  {
   "cell_type": "markdown",
   "id": "c4e45099",
   "metadata": {},
   "source": [
    "# Modern Alerts Using Toastr in Jupyter Notebook\n",
    "This notebook demonstrates how to implement and customize Toastr alerts in Jupyter."
   ]
  },
  {
   "cell_type": "code",
   "execution_count": null,
   "id": "26e933ad",
   "metadata": {},
   "outputs": [],
   "source": [
    "# Import required libraries\n",
    "from IPython.display import HTML, display, Javascript\n",
    "import ipywidgets as widgets"
   ]
  },
  {
   "cell_type": "markdown",
   "id": "0d77f9e1",
   "metadata": {},
   "source": [
    "## Set Up Toastr Dependencies\n",
    "First, let's include the Toastr CSS and JavaScript files from CDN"
   ]
  },
  {
   "cell_type": "code",
   "execution_count": null,
   "id": "837616d3",
   "metadata": {},
   "outputs": [],
   "source": [
    "# Add Toastr CSS and JS\n",
    "toastr_css = HTML(\"\"\"\n",
    "<link href=\"https://cdnjs.cloudflare.com/ajax/libs/toastr.js/latest/toastr.min.css\" rel=\"stylesheet\"/>\n",
    "\"\"\")\n",
    "\n",
    "toastr_js = HTML(\"\"\"\n",
    "<script src=\"https://code.jquery.com/jquery-3.6.0.min.js\"></script>\n",
    "<script src=\"https://cdnjs.cloudflare.com/ajax/libs/toastr.js/latest/toastr.min.js\"></script>\n",
    "\"\"\")\n",
    "\n",
    "display(toastr_css)\n",
    "display(toastr_js)"
   ]
  },
  {
   "cell_type": "markdown",
   "id": "be673f49",
   "metadata": {},
   "source": [
    "## Basic Toastr Alerts\n",
    "Let's create functions for different types of alerts"
   ]
  },
  {
   "cell_type": "code",
   "execution_count": null,
   "id": "bdc5fa77",
   "metadata": {},
   "outputs": [],
   "source": [
    "def show_toast(type_message, title, message):\n",
    "    js = f\"\"\"\n",
    "    toastr.{type_message}('{message}', '{title}');\n",
    "    \"\"\"\n",
    "    display(Javascript(js))\n",
    "\n",
    "# Example usage\n",
    "show_toast('success', 'Success!', 'Operation completed successfully')\n",
    "show_toast('info', 'Info', 'This is an information message')\n",
    "show_toast('warning', 'Warning', 'Please be careful')\n",
    "show_toast('error', 'Error', 'Something went wrong')"
   ]
  },
  {
   "cell_type": "markdown",
   "id": "fcaf5d60",
   "metadata": {},
   "source": [
    "## Customize Toastr Options\n",
    "Configure Toastr settings for position, timeout, and animations"
   ]
  },
  {
   "cell_type": "code",
   "execution_count": null,
   "id": "e8da1fa1",
   "metadata": {},
   "outputs": [],
   "source": [
    "# Configure Toastr options\n",
    "toastr_options = HTML(\"\"\"\n",
    "<script>\n",
    "toastr.options = {\n",
    "    \"closeButton\": true,\n",
    "    \"debug\": false,\n",
    "    \"newestOnTop\": true,\n",
    "    \"progressBar\": true,\n",
    "    \"positionClass\": \"toast-top-right\",\n",
    "    \"preventDuplicates\": false,\n",
    "    \"timeOut\": \"3000\",\n",
    "    \"extendedTimeOut\": \"1000\"\n",
    "}\n",
    "</script>\n",
    "\"\"\")\n",
    "display(toastr_options)"
   ]
  },
  {
   "cell_type": "markdown",
   "id": "a7dcfa8d",
   "metadata": {},
   "source": [
    "## Interactive Alerts with Widgets\n",
    "Create interactive buttons to trigger different types of alerts"
   ]
  },
  {
   "cell_type": "code",
   "execution_count": null,
   "id": "b84714a6",
   "metadata": {},
   "outputs": [],
   "source": [
    "def on_button_clicked(type_message):\n",
    "    show_toast(\n",
    "        type_message, \n",
    "        f'{type_message.capitalize()} Alert', \n",
    "        f'This is a {type_message} message triggered by button click'\n",
    "    )\n",
    "\n",
    "success_btn = widgets.Button(description=\"Success Alert\")\n",
    "info_btn = widgets.Button(description=\"Info Alert\")\n",
    "warning_btn = widgets.Button(description=\"Warning Alert\")\n",
    "error_btn = widgets.Button(description=\"Error Alert\")\n",
    "\n",
    "success_btn.on_click(lambda b: on_button_clicked('success'))\n",
    "info_btn.on_click(lambda b: on_button_clicked('info'))\n",
    "warning_btn.on_click(lambda b: on_button_clicked('warning'))\n",
    "error_btn.on_click(lambda b: on_button_clicked('error'))\n",
    "\n",
    "widgets.HBox([success_btn, info_btn, warning_btn, error_btn])"
   ]
  },
  {
   "cell_type": "markdown",
   "id": "fab1fddd",
   "metadata": {},
   "source": [
    "## Testing Different Positions\n",
    "Try different toast positions using custom options"
   ]
  },
  {
   "cell_type": "code",
   "execution_count": null,
   "id": "33ec2721",
   "metadata": {},
   "outputs": [],
   "source": [
    "positions = ['toast-top-right', 'toast-top-left', 'toast-bottom-right', 'toast-bottom-left', 'toast-top-center']\n",
    "\n",
    "def show_positioned_toast(position):\n",
    "    js = f\"\"\"\n",
    "    toastr.options.positionClass = '{position}';\n",
    "    toastr.info('Testing position: {position}', 'Position Demo');\n",
    "    \"\"\"\n",
    "    display(Javascript(js))\n",
    "\n",
    "for position in positions:\n",
    "    show_positioned_toast(position)"
   ]
  },
  {
   "cell_type": "markdown",
   "id": "64cbf57e",
   "metadata": {},
   "source": [
    "# Modern Alerts Using Toastr in Jupyter Notebook\n",
    "This notebook demonstrates how to implement and customize Toastr alerts in a Jupyter environment."
   ]
  },
  {
   "cell_type": "markdown",
   "id": "8a43ba8b",
   "metadata": {},
   "source": [
    "## Install and Import Required Libraries\n",
    "First, we'll install the necessary packages and import required libraries."
   ]
  },
  {
   "cell_type": "code",
   "execution_count": null,
   "id": "6fd05f72",
   "metadata": {},
   "outputs": [],
   "source": [
    "!pip install ipywidgets\n",
    "import IPython.display as display\n",
    "from IPython.display import HTML, Javascript\n",
    "import ipywidgets as widgets"
   ]
  },
  {
   "cell_type": "markdown",
   "id": "4243b9ef",
   "metadata": {},
   "source": [
    "## Set Up Toastr in Jupyter Notebook\n",
    "Include Toastr's CSS and JavaScript files using CDN."
   ]
  },
  {
   "cell_type": "code",
   "execution_count": null,
   "id": "6011037f",
   "metadata": {},
   "outputs": [],
   "source": [
    "# Load Toastr CSS and JS\n",
    "display.HTML(\"\"\"\n",
    "<link href=\"https://cdnjs.cloudflare.com/ajax/libs/toastr.js/latest/toastr.min.css\" rel=\"stylesheet\">\n",
    "<script src=\"https://cdnjs.cloudflare.com/ajax/libs/jquery/3.6.0/jquery.min.js\"></script>\n",
    "<script src=\"https://cdnjs.cloudflare.com/ajax/libs/toastr.js/latest/toastr.min.js\"></script>\n",
    "\"\"\")"
   ]
  },
  {
   "cell_type": "markdown",
   "id": "867de238",
   "metadata": {},
   "source": [
    "## Create Basic Toastr Alerts\n",
    "Let's create functions for basic alert types: success, error, info, and warning."
   ]
  },
  {
   "cell_type": "code",
   "execution_count": null,
   "id": "09a8ef44",
   "metadata": {},
   "outputs": [],
   "source": [
    "def show_toast(type_=\"success\", message=\"Operation completed\", title=\"Notification\"):\n",
    "    js_code = f\"\"\"\n",
    "    toastr.{type_}('{message}', '{title}');\n",
    "    \"\"\"\n",
    "    display.Javascript(js_code)\n",
    "\n",
    "# Example usage\n",
    "show_toast(\"success\", \"Operation completed successfully!\", \"Success\")\n",
    "show_toast(\"error\", \"An error occurred!\", \"Error\")\n",
    "show_toast(\"info\", \"Here's some information\", \"Info\")\n",
    "show_toast(\"warning\", \"Please be careful!\", \"Warning\")"
   ]
  },
  {
   "cell_type": "markdown",
   "id": "6a03138e",
   "metadata": {},
   "source": [
    "## Customize Toastr Alerts\n",
    "Demonstrate how to customize Toastr alerts with different options."
   ]
  },
  {
   "cell_type": "code",
   "execution_count": null,
   "id": "61b4d6c1",
   "metadata": {},
   "outputs": [],
   "source": [
    "# Configure Toastr options\n",
    "display.Javascript(\"\"\"\n",
    "toastr.options = {\n",
    "    \"closeButton\": true,\n",
    "    \"debug\": false,\n",
    "    \"newestOnTop\": true,\n",
    "    \"progressBar\": true,\n",
    "    \"positionClass\": \"toast-top-right\",\n",
    "    \"preventDuplicates\": false,\n",
    "    \"timeOut\": \"3000\",\n",
    "    \"extendedTimeOut\": \"1000\"\n",
    "}\n",
    "\"\"\")\n",
    "\n",
    "# Show customized toast\n",
    "show_toast(\"info\", \"This is a customized toast!\", \"Custom Alert\")"
   ]
  },
  {
   "cell_type": "markdown",
   "id": "c0c8eab1",
   "metadata": {},
   "source": [
    "## Trigger Alerts Based on User Input\n",
    "Create interactive widgets to trigger alerts based on user input."
   ]
  },
  {
   "cell_type": "code",
   "execution_count": null,
   "id": "252d2897",
   "metadata": {},
   "outputs": [],
   "source": [
    "def create_alert_widget():\n",
    "    type_dropdown = widgets.Dropdown(\n",
    "        options=['success', 'error', 'info', 'warning'],\n",
    "        description='Alert Type:',\n",
    "        value='success'\n",
    "    )\n",
    "    \n",
    "    message_text = widgets.Text(\n",
    "        value='Hello World',\n",
    "        description='Message:',\n",
    "        layout=widgets.Layout(width='300px')\n",
    "    )\n",
    "    \n",
    "    title_text = widgets.Text(\n",
    "        value='Notification',\n",
    "        description='Title:',\n",
    "        layout=widgets.Layout(width='300px')\n",
    "    )\n",
    "    \n",
    "    def on_button_click(b):\n",
    "        show_toast(type_dropdown.value, message_text.value, title_text.value)\n",
    "    \n",
    "    button = widgets.Button(description=\"Show Alert\")\n",
    "    button.on_click(on_button_click)\n",
    "    \n",
    "    return widgets.VBox([type_dropdown, message_text, title_text, button])\n",
    "\n",
    "# Display the interactive widget\n",
    "create_alert_widget()"
   ]
  },
  {
   "cell_type": "markdown",
   "id": "b6c33870",
   "metadata": {},
   "source": [
    "# Modern Alerts with Toastr Tutorial\n",
    "This notebook demonstrates how to implement and customize Toastr alerts in a web application."
   ]
  },
  {
   "cell_type": "markdown",
   "id": "80c2b0d7",
   "metadata": {},
   "source": [
    "## Install and Import Required Libraries\n",
    "First, let's set up the required dependencies for using Toastr in our notebook."
   ]
  },
  {
   "cell_type": "code",
   "execution_count": null,
   "id": "b3c52f87",
   "metadata": {
    "vscode": {
     "languageId": "html"
    }
   },
   "outputs": [],
   "source": [
    "%%html\n",
    "<!-- Include Toastr CSS and JS via CDN -->\n",
    "<link href=\"https://cdnjs.cloudflare.com/ajax/libs/toastr.js/latest/css/toastr.min.css\" rel=\"stylesheet\"/>\n",
    "<script src=\"https://code.jquery.com/jquery-3.6.0.min.js\"></script>\n",
    "<script src=\"https://cdnjs.cloudflare.com/ajax/libs/toastr.js/latest/js/toastr.min.js\"></script>"
   ]
  },
  {
   "cell_type": "markdown",
   "id": "5ed271e9",
   "metadata": {},
   "source": [
    "## Set Up Toastr for Modern Alerts\n",
    "Let's configure some basic Toastr settings."
   ]
  },
  {
   "cell_type": "code",
   "execution_count": null,
   "id": "5d2c77ad",
   "metadata": {
    "vscode": {
     "languageId": "javascript"
    }
   },
   "outputs": [],
   "source": [
    "%%javascript\n",
    "toastr.options = {\n",
    "    \"closeButton\": true,\n",
    "    \"debug\": false,\n",
    "    \"newestOnTop\": false,\n",
    "    \"progressBar\": true,\n",
    "    \"positionClass\": \"toast-top-right\",\n",
    "    \"preventDuplicates\": false,\n",
    "    \"showDuration\": \"300\",\n",
    "    \"hideDuration\": \"1000\",\n",
    "    \"timeOut\": \"5000\",\n",
    "    \"extendedTimeOut\": \"1000\",\n",
    "    \"showEasing\": \"swing\",\n",
    "    \"hideEasing\": \"linear\",\n",
    "    \"showMethod\": \"fadeIn\",\n",
    "    \"hideMethod\": \"fadeOut\"\n",
    "}"
   ]
  },
  {
   "cell_type": "markdown",
   "id": "1bcc7a3a",
   "metadata": {},
   "source": [
    "## Create a Basic Toastr Alert\n",
    "Let's create some simple Toastr notifications with different types."
   ]
  },
  {
   "cell_type": "code",
   "execution_count": null,
   "id": "0de21210",
   "metadata": {
    "vscode": {
     "languageId": "javascript"
    }
   },
   "outputs": [],
   "source": [
    "%%javascript\n",
    "// Basic success notification\n",
    "toastr.success('This is a success message!', 'Success');\n",
    "\n",
    "// Basic info notification\n",
    "setTimeout(() => {\n",
    "    toastr.info('This is an info message!', 'Information');\n",
    "}, 1000);"
   ]
  },
  {
   "cell_type": "markdown",
   "id": "dc5d9378",
   "metadata": {},
   "source": [
    "## Customize Toastr Alerts\n",
    "Now let's demonstrate how to customize Toastr alerts with different options."
   ]
  },
  {
   "cell_type": "code",
   "execution_count": null,
   "id": "1d65ba2e",
   "metadata": {
    "vscode": {
     "languageId": "javascript"
    }
   },
   "outputs": [],
   "source": [
    "%%javascript\n",
    "// Custom positioned toast\n",
    "toastr.options.positionClass = 'toast-bottom-center';\n",
    "toastr.warning('Bottom center positioned alert!', 'Custom Position');\n",
    "\n",
    "// Toast with longer duration\n",
    "setTimeout(() => {\n",
    "    toastr.options.timeOut = 10000;\n",
    "    toastr.error('This error message will stay longer!', 'Extended Duration');\n",
    "}, 2000);"
   ]
  },
  {
   "cell_type": "markdown",
   "id": "a9fecce2",
   "metadata": {},
   "source": [
    "## Trigger Alerts Based on User Input\n",
    "Let's create a Python function that can trigger Toastr alerts based on user input."
   ]
  },
  {
   "cell_type": "code",
   "execution_count": null,
   "id": "ca111d42",
   "metadata": {},
   "outputs": [],
   "source": [
    "from IPython.display import Javascript\n",
    "\n",
    "def show_toastr_alert(message, alert_type='success', title='Notification'):\n",
    "    js_code = f\"\"\"\n",
    "    toastr.{alert_type}('{message}', '{title}');\n",
    "    \"\"\"\n",
    "    display(Javascript(js_code))\n",
    "\n",
    "# Example usage\n",
    "show_toastr_alert(\"This alert was triggered from Python!\", \"info\", \"Python Alert\")"
   ]
  },
  {
   "cell_type": "markdown",
   "id": "07a520b3",
   "metadata": {},
   "source": [
    "Try different alert types using the function above:\n",
    "- success\n",
    "- info\n",
    "- warning\n",
    "- error"
   ]
  },
  {
   "cell_type": "code",
   "execution_count": null,
   "id": "51892568",
   "metadata": {},
   "outputs": [],
   "source": [
    "# Example of multiple alerts with different types\n",
    "show_toastr_alert(\"Operation completed successfully!\", \"success\", \"Success\")\n",
    "show_toastr_alert(\"Please check your input!\", \"warning\", \"Warning\")\n",
    "show_toastr_alert(\"An error occurred during processing.\", \"error\", \"Error\")"
   ]
  }
 ],
 "metadata": {
  "language_info": {
   "name": "python"
  }
 },
 "nbformat": 4,
 "nbformat_minor": 5
}
